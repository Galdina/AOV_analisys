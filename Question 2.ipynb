{
 "cells": [
  {
   "cell_type": "markdown",
   "metadata": {},
   "source": [
    "## Question 2. SQL.\n",
    "\n",
    "Follow this [link to access](https://www.w3schools.com/SQL/TRYSQL.ASP?FILENAME=TRYSQL_SELECT_ALL) the data set required for the challenge. Please use queries to answer the following questions. Paste your queries along with your final numerical answers below."
   ]
  },
  {
   "cell_type": "markdown",
   "metadata": {},
   "source": [
    "Task for solving:\n",
    "1. How many orders were shipped by Speedy Express in total?\n",
    "2. What is the last name of the employee with the most orders?\n",
    "3. What product was ordered the most by customers in Germany?"
   ]
  },
  {
   "cell_type": "markdown",
   "metadata": {},
   "source": [
    "### How many orders were shipped by Speedy Express in total?"
   ]
  },
  {
   "cell_type": "code",
   "execution_count": null,
   "metadata": {},
   "outputs": [],
   "source": [
    "# Query\n",
    "SELECT count(*) as 'Number of Orders by Speedy Express' FROM Shippers, Orders\n",
    "WHERE Orders.ShipperID = Shippers.ShipperID AND Shippers.ShipperID = 1 /*or Shippers.ShipperName = 'Speedy Express' */\n",
    "GROUP BY Shippers.ShipperID;\n",
    "\n",
    "# answer = 54"
   ]
  },
  {
   "cell_type": "markdown",
   "metadata": {},
   "source": [
    "### What is the last name of the employee with the most orders?"
   ]
  },
  {
   "cell_type": "code",
   "execution_count": null,
   "metadata": {},
   "outputs": [],
   "source": [
    "# Query\n",
    "SELECT Employees.LastName as 'LastName', count(*) as o FROM Orders, Employees\n",
    "WHERE Orders.EmployeeID = Employees.EmployeeID\n",
    "GROUP BY Employees.LastName;\n",
    "\n",
    "# answer = 40 for Peacock"
   ]
  },
  {
   "cell_type": "markdown",
   "metadata": {},
   "source": [
    "### What product was ordered the most by customers in Germany?"
   ]
  },
  {
   "cell_type": "code",
   "execution_count": null,
   "metadata": {},
   "outputs": [],
   "source": [
    "# Query\n",
    "SELECT top 1 ProductName FROM (SELECT Products.ProductName, count(*) as counts FROM Customers, Orders, OrderDetails, Products\n",
    "WHERE Customers.CustomerID = Orders.CustomerID AND OrderDetails.OrderID = Orders.OrderID AND Products.ProductID = OrderDetails.ProductID AND Customers.Country = 'Germany'\n",
    "GROUP BY Products.ProductName) temp\n",
    "ORDER BY counts DESC\n",
    "\n",
    "# answer = Gorgonzola Telino  "
   ]
  }
 ],
 "metadata": {
  "kernelspec": {
   "display_name": "learn-env",
   "language": "python",
   "name": "learn-env"
  },
  "language_info": {
   "codemirror_mode": {
    "name": "ipython",
    "version": 3
   },
   "file_extension": ".py",
   "mimetype": "text/x-python",
   "name": "python",
   "nbconvert_exporter": "python",
   "pygments_lexer": "ipython3",
   "version": "3.7.4"
  }
 },
 "nbformat": 4,
 "nbformat_minor": 2
}
